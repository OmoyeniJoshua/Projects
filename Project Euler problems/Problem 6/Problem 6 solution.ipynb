{
 "cells": [
  {
   "cell_type": "code",
   "execution_count": 1,
   "metadata": {},
   "outputs": [
    {
     "name": "stdout",
     "output_type": "stream",
     "text": [
      "2640\n"
     ]
    }
   ],
   "source": [
    "n = 0\n",
    "a = 0\n",
    "b = 0\n",
    "for i in range(1,11):\n",
    "    a +=i**2\n",
    "for i in range(1,11):\n",
    "    b +=i\n",
    "b = b**2\n",
    "n = b - a\n",
    "print(n)"
   ]
  },
  {
   "cell_type": "code",
   "execution_count": 2,
   "metadata": {},
   "outputs": [
    {
     "name": "stdout",
     "output_type": "stream",
     "text": [
      "25164150\n"
     ]
    }
   ],
   "source": [
    "n = 0\n",
    "a = 0\n",
    "b = 0\n",
    "for i in range(1,101):\n",
    "    a +=i**2\n",
    "for i in range(1,101):\n",
    "    b +=i\n",
    "b = b**2\n",
    "n = b - a\n",
    "print(n)"
   ]
  },
  {
   "cell_type": "code",
   "execution_count": 3,
   "metadata": {},
   "outputs": [
    {
     "name": "stdout",
     "output_type": "stream",
     "text": [
      "25164150\n"
     ]
    }
   ],
   "source": [
    "def sumSquareDifference(n):\n",
    "    while i<=n:\n",
    "        a +=i**2\n",
    "        b +=i\n",
    "        b = b**2\n",
    "        i +=1\n",
    "    return b-a\n",
    "n = b-a\n",
    "print(n)"
   ]
  },
  {
   "cell_type": "code",
   "execution_count": null,
   "metadata": {},
   "outputs": [],
   "source": []
  }
 ],
 "metadata": {
  "kernelspec": {
   "display_name": "Python 3",
   "language": "python",
   "name": "python3"
  },
  "language_info": {
   "codemirror_mode": {
    "name": "ipython",
    "version": 3
   },
   "file_extension": ".py",
   "mimetype": "text/x-python",
   "name": "python",
   "nbconvert_exporter": "python",
   "pygments_lexer": "ipython3",
   "version": "3.7.1"
  }
 },
 "nbformat": 4,
 "nbformat_minor": 2
}
