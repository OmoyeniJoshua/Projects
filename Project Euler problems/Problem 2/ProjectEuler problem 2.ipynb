{
 "cells": [
  {
   "cell_type": "code",
   "execution_count": 1,
   "metadata": {},
   "outputs": [
    {
     "name": "stdout",
     "output_type": "stream",
     "text": [
      "4613732\n",
      "total time taken is:  3.357191499999999\n"
     ]
    }
   ],
   "source": [
    "#Even Fibonacci Numbers\n",
    "import timeit\n",
    "def f(n):\n",
    "    if n <=2:\n",
    "        return n \n",
    "    else:\n",
    "        return f(n-1) + f(n-2)\n",
    "\n",
    "starttime = timeit.default_timer()\n",
    "\n",
    "n= 0\n",
    "i = 0\n",
    "sum_of_even = 0\n",
    "while i< 4e6:\n",
    "    if i % 2 == 0:\n",
    "        sum_of_even += i\n",
    "    n += 1\n",
    "    i = f(n)\n",
    "endtime = timeit.default_timer()\n",
    "print (sum_of_even)\n",
    "timetaken = endtime - starttime\n",
    "print('total time taken is: ', timetaken)"
   ]
  },
  {
   "cell_type": "code",
   "execution_count": null,
   "metadata": {},
   "outputs": [],
   "source": []
  }
 ],
 "metadata": {
  "kernelspec": {
   "display_name": "Python 3",
   "language": "python",
   "name": "python3"
  },
  "language_info": {
   "codemirror_mode": {
    "name": "ipython",
    "version": 3
   },
   "file_extension": ".py",
   "mimetype": "text/x-python",
   "name": "python",
   "nbconvert_exporter": "python",
   "pygments_lexer": "ipython3",
   "version": "3.7.1"
  }
 },
 "nbformat": 4,
 "nbformat_minor": 2
}
