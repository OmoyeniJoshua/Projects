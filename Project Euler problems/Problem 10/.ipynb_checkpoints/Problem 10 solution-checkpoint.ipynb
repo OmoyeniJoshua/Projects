{
 "cells": [
  {
   "cell_type": "code",
   "execution_count": 1,
   "metadata": {},
   "outputs": [
    {
     "data": {
      "text/plain": [
       "142913828922"
      ]
     },
     "execution_count": 1,
     "metadata": {},
     "output_type": "execute_result"
    }
   ],
   "source": [
    "def primeSum(n):\n",
    "    i = 2\n",
    "    list_of_primes = []\n",
    "    while i < n:\n",
    "        if all(i%prime for prime in list_of_primes):\n",
    "                list_of_primes.append(i)\n",
    "        i +=1\n",
    "    return sum(list_of_primes)\n",
    "            \n",
    "    \n",
    "primeSum(2000000)"
   ]
  },
  {
   "cell_type": "code",
   "execution_count": null,
   "metadata": {},
   "outputs": [],
   "source": []
  }
 ],
 "metadata": {
  "kernelspec": {
   "display_name": "Python 3",
   "language": "python",
   "name": "python3"
  },
  "language_info": {
   "codemirror_mode": {
    "name": "ipython",
    "version": 3
   },
   "file_extension": ".py",
   "mimetype": "text/x-python",
   "name": "python",
   "nbconvert_exporter": "python",
   "pygments_lexer": "ipython3",
   "version": "3.7.1"
  }
 },
 "nbformat": 4,
 "nbformat_minor": 2
}
