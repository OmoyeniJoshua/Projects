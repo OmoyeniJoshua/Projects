{
 "cells": [
  {
   "cell_type": "code",
   "execution_count": 1,
   "metadata": {},
   "outputs": [
    {
     "name": "stdout",
     "output_type": "stream",
     "text": [
      "21\n"
     ]
    }
   ],
   "source": [
    "def triangular(n):\n",
    "    result = 0\n",
    "    for i in range(1, n+1):\n",
    "        result += i\n",
    "    return result\n",
    "print(triangular(6))"
   ]
  },
  {
   "cell_type": "code",
   "execution_count": 2,
   "metadata": {},
   "outputs": [
    {
     "name": "stdout",
     "output_type": "stream",
     "text": [
      "28\n"
     ]
    }
   ],
   "source": [
    "from math import floor, sqrt\n",
    "def triangular(n):\n",
    "    result = 0\n",
    "    for i in range(1, n+1):\n",
    "        result += i\n",
    "    return result\n",
    "def divisors(n):\n",
    "    divisor = 0\n",
    "    for i in range(1, floor(sqrt(n))+1):\n",
    "        if n % i == 0:\n",
    "            if i ** 2 != n:\n",
    "                divisor += 2\n",
    "            else:\n",
    "                divisor +=1\n",
    "    return divisor\n",
    "n = 1\n",
    "while divisors(triangular(n)) <= 5:\n",
    "    n += 1\n",
    "print(triangular(n))"
   ]
  },
  {
   "cell_type": "code",
   "execution_count": 3,
   "metadata": {},
   "outputs": [
    {
     "name": "stdout",
     "output_type": "stream",
     "text": [
      "76576500\n"
     ]
    }
   ],
   "source": [
    "import math\n",
    "def triangular(n):\n",
    "    result = 0\n",
    "    for i in range(1, n):\n",
    "        result += i\n",
    "    return result\n",
    "def divisors(n):\n",
    "    divisor = 0\n",
    "    for i in range(1, floor(sqrt(n))):\n",
    "        if n % i == 0:\n",
    "            if i ** 2 != n:\n",
    "                divisor += 2\n",
    "            else:\n",
    "                divisor +=1\n",
    "    return divisor\n",
    "n = 1\n",
    "while divisors(triangular(n)) <= 500:\n",
    "    n += 1\n",
    "print(triangular(n))"
   ]
  },
  {
   "cell_type": "code",
   "execution_count": null,
   "metadata": {},
   "outputs": [],
   "source": []
  }
 ],
 "metadata": {
  "kernelspec": {
   "display_name": "Python 3",
   "language": "python",
   "name": "python3"
  },
  "language_info": {
   "codemirror_mode": {
    "name": "ipython",
    "version": 3
   },
   "file_extension": ".py",
   "mimetype": "text/x-python",
   "name": "python",
   "nbconvert_exporter": "python",
   "pygments_lexer": "ipython3",
   "version": "3.7.1"
  }
 },
 "nbformat": 4,
 "nbformat_minor": 2
}
