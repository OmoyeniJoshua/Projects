{
 "cells": [
  {
   "cell_type": "code",
   "execution_count": 1,
   "metadata": {},
   "outputs": [
    {
     "name": "stdout",
     "output_type": "stream",
     "text": [
      "[2, 3, 5, 7, 11, 13]\n",
      "13\n"
     ]
    }
   ],
   "source": [
    "def primeChecker(n):\n",
    "    i = 2\n",
    "    list_of_primes = []\n",
    "    while (len(list_of_primes) < n):\n",
    "        if all(i%prime for prime in list_of_primes):\n",
    "                list_of_primes.append(i)\n",
    "        i +=1\n",
    "            \n",
    "    print(list_of_primes)\n",
    "    print(list_of_primes[-1])\n",
    "    \n",
    "primeChecker(6)"
   ]
  },
  {
   "cell_type": "code",
   "execution_count": 2,
   "metadata": {},
   "outputs": [
    {
     "name": "stdout",
     "output_type": "stream",
     "text": [
      "104743\n"
     ]
    }
   ],
   "source": [
    "def primeChecker(n):\n",
    "    i = 2\n",
    "    list_of_primes = []\n",
    "    while (len(list_of_primes) < n):\n",
    "        if all(i%prime for prime in list_of_primes):\n",
    "                list_of_primes.append(i)\n",
    "        i +=1\n",
    "    print(list_of_primes[-1])\n",
    "    \n",
    "primeChecker(10001)"
   ]
  },
  {
   "cell_type": "code",
   "execution_count": null,
   "metadata": {},
   "outputs": [],
   "source": []
  }
 ],
 "metadata": {
  "kernelspec": {
   "display_name": "Python 3",
   "language": "python",
   "name": "python3"
  },
  "language_info": {
   "codemirror_mode": {
    "name": "ipython",
    "version": 3
   },
   "file_extension": ".py",
   "mimetype": "text/x-python",
   "name": "python",
   "nbconvert_exporter": "python",
   "pygments_lexer": "ipython3",
   "version": "3.7.1"
  }
 },
 "nbformat": 4,
 "nbformat_minor": 2
}
