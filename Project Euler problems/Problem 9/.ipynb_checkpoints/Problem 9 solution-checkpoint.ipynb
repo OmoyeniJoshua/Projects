{
 "cells": [
  {
   "cell_type": "code",
   "execution_count": 4,
   "metadata": {},
   "outputs": [
    {
     "name": "stdout",
     "output_type": "stream",
     "text": [
      "200 375 425\n",
      "31875000\n"
     ]
    }
   ],
   "source": [
    "def pyTriplet(a, b , c):\n",
    "    if (a **2) + (b**2) == c**2:\n",
    "        return True\n",
    "    else:\n",
    "        pass\n",
    "    \n",
    "total = 1000\n",
    "for c in range(total):\n",
    "    for b in range(c):\n",
    "        for a in range(b):\n",
    "            if a + b + c == total:\n",
    "                if pyTriplet(a, b ,c):\n",
    "                    print(a, b, c)\n",
    "                    print(a*b*c)\n",
    "\n",
    "pyTriplet(a, b, c)"
   ]
  },
  {
   "cell_type": "code",
   "execution_count": null,
   "metadata": {},
   "outputs": [],
   "source": []
  }
 ],
 "metadata": {
  "kernelspec": {
   "display_name": "Python 3",
   "language": "python",
   "name": "python3"
  },
  "language_info": {
   "codemirror_mode": {
    "name": "ipython",
    "version": 3
   },
   "file_extension": ".py",
   "mimetype": "text/x-python",
   "name": "python",
   "nbconvert_exporter": "python",
   "pygments_lexer": "ipython3",
   "version": "3.7.1"
  }
 },
 "nbformat": 4,
 "nbformat_minor": 2
}
