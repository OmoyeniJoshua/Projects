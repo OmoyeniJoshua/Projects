{
 "cells": [
  {
   "cell_type": "code",
   "execution_count": 1,
   "metadata": {},
   "outputs": [
    {
     "name": "stdout",
     "output_type": "stream",
     "text": [
      "137846528820\n"
     ]
    }
   ],
   "source": [
    "grid = []\n",
    "for i in range(21):\n",
    "    if i==0:\n",
    "        grid.append([1]*21)\n",
    "    else:\n",
    "        grid.append([0]*21)\n",
    "        grid[-1][0] = 1\n",
    "for i in range(1,21):\n",
    "    for j in range(1,21):\n",
    "        grid[i][j] = grid [i][j-1] + grid [i-1][j]\n",
    "print(grid[-1][-1])"
   ]
  },
  {
   "cell_type": "code",
   "execution_count": null,
   "metadata": {},
   "outputs": [],
   "source": []
  }
 ],
 "metadata": {
  "kernelspec": {
   "display_name": "Python 3",
   "language": "python",
   "name": "python3"
  },
  "language_info": {
   "codemirror_mode": {
    "name": "ipython",
    "version": 3
   },
   "file_extension": ".py",
   "mimetype": "text/x-python",
   "name": "python",
   "nbconvert_exporter": "python",
   "pygments_lexer": "ipython3",
   "version": "3.7.1"
  }
 },
 "nbformat": 4,
 "nbformat_minor": 2
}
