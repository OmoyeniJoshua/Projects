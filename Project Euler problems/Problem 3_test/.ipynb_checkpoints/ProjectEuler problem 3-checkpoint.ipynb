{
 "cells": [
  {
   "cell_type": "code",
   "execution_count": 4,
   "metadata": {},
   "outputs": [
    {
     "name": "stdout",
     "output_type": "stream",
     "text": [
      "29.0\n",
      "0.00011400000005323818\n"
     ]
    }
   ],
   "source": [
    "import timeit\n",
    "starttime = timeit.default_timer()\n",
    "n = 13195\n",
    "i = 2\n",
    "while i<n:\n",
    "    if n%i==0:\n",
    "        n = n/i\n",
    "    i +=1\n",
    "endtime = timeit.default_timer()\n",
    "print(n)\n",
    "timetaken = endtime - starttime\n",
    "print (timetaken)"
   ]
  },
  {
   "cell_type": "code",
   "execution_count": 1,
   "metadata": {},
   "outputs": [
    {
     "name": "stdout",
     "output_type": "stream",
     "text": [
      "6857.0\n",
      "0.004297100000030696\n"
     ]
    }
   ],
   "source": [
    "import timeit\n",
    "starttime = timeit.default_timer()\n",
    "n = 600851475143\n",
    "i = 2\n",
    "while i<n:\n",
    "    if n%i==0:\n",
    "        n = n/i\n",
    "    i +=1\n",
    "endtime = timeit.default_timer()\n",
    "print(n)\n",
    "timetaken = endtime - starttime\n",
    "print (timetaken)"
   ]
  },
  {
   "cell_type": "code",
   "execution_count": 2,
   "metadata": {},
   "outputs": [
    {
     "name": "stdout",
     "output_type": "stream",
     "text": [
      "6857\n",
      "0.0021096999998917454\n"
     ]
    }
   ],
   "source": [
    "import timeit\n",
    "starttime = timeit.default_timer()\n",
    "n = 600851475143\n",
    "i = 2\n",
    "while i<n:\n",
    "    if n%i==0:\n",
    "        n = n/i\n",
    "    i +=1\n",
    "endtime = timeit.default_timer()\n",
    "print(int(n))\n",
    "timetaken = endtime - starttime\n",
    "print (timetaken)"
   ]
  },
  {
   "cell_type": "code",
   "execution_count": null,
   "metadata": {},
   "outputs": [],
   "source": []
  }
 ],
 "metadata": {
  "kernelspec": {
   "display_name": "Python 3",
   "language": "python",
   "name": "python3"
  },
  "language_info": {
   "codemirror_mode": {
    "name": "ipython",
    "version": 3
   },
   "file_extension": ".py",
   "mimetype": "text/x-python",
   "name": "python",
   "nbconvert_exporter": "python",
   "pygments_lexer": "ipython3",
   "version": "3.7.1"
  }
 },
 "nbformat": 4,
 "nbformat_minor": 2
}
