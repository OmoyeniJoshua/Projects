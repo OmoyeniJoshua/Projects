{
 "cells": [
  {
   "cell_type": "code",
   "execution_count": 5,
   "metadata": {},
   "outputs": [
    {
     "name": "stdout",
     "output_type": "stream",
     "text": [
      "26\n"
     ]
    }
   ],
   "source": [
    "def powerDigitSum():\n",
    "    total = 2**15\n",
    "    total = str(total)\n",
    "    answer = 0\n",
    "    for i in range(len(total)):\n",
    "        answer += int(total[i])\n",
    "    print(answer)\n",
    "powerDigitSum()"
   ]
  },
  {
   "cell_type": "code",
   "execution_count": 6,
   "metadata": {},
   "outputs": [
    {
     "name": "stdout",
     "output_type": "stream",
     "text": [
      "1366\n"
     ]
    }
   ],
   "source": [
    "def powerDigitSum():\n",
    "    total = 2**1000\n",
    "    total = str(total)\n",
    "    answer = 0\n",
    "    for i in range(len(total)):\n",
    "        answer += int(total[i])\n",
    "    print(answer)\n",
    "powerDigitSum()"
   ]
  },
  {
   "cell_type": "code",
   "execution_count": null,
   "metadata": {},
   "outputs": [],
   "source": []
  }
 ],
 "metadata": {
  "kernelspec": {
   "display_name": "Python 3",
   "language": "python",
   "name": "python3"
  },
  "language_info": {
   "codemirror_mode": {
    "name": "ipython",
    "version": 3
   },
   "file_extension": ".py",
   "mimetype": "text/x-python",
   "name": "python",
   "nbconvert_exporter": "python",
   "pygments_lexer": "ipython3",
   "version": "3.7.1"
  }
 },
 "nbformat": 4,
 "nbformat_minor": 2
}
