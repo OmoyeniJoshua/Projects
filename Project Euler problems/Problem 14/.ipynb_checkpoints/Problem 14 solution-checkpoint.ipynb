{
 "cells": [
  {
   "cell_type": "code",
   "execution_count": 1,
   "metadata": {},
   "outputs": [
    {
     "data": {
      "text/plain": [
       "10"
      ]
     },
     "execution_count": 1,
     "metadata": {},
     "output_type": "execute_result"
    }
   ],
   "source": [
    "def collatz(n):\n",
    "    mylist = [n]\n",
    "    while n!=1:\n",
    "        if n%2== 0:\n",
    "            n = n//2\n",
    "            mylist.append(n)\n",
    "        else:\n",
    "            n = n*3+1\n",
    "            mylist.append(n)\n",
    "    return len(mylist)\n",
    "collatz(13)"
   ]
  },
  {
   "cell_type": "code",
   "execution_count": 2,
   "metadata": {},
   "outputs": [
    {
     "data": {
      "text/plain": [
       "[13, 40, 20, 10, 5, 16, 8, 4, 2, 1]"
      ]
     },
     "execution_count": 2,
     "metadata": {},
     "output_type": "execute_result"
    }
   ],
   "source": [
    "def collatz(n):\n",
    "    mylist = [n]\n",
    "    while n!=1:\n",
    "        if n%2== 0:\n",
    "            n = n//2\n",
    "            mylist.append(n)\n",
    "        else:\n",
    "            n = n*3+1\n",
    "            mylist.append(n)\n",
    "    return (mylist)\n",
    "collatz(13)"
   ]
  },
  {
   "cell_type": "code",
   "execution_count": 15,
   "metadata": {},
   "outputs": [
    {
     "name": "stdout",
     "output_type": "stream",
     "text": [
      "525\n",
      "837799\n"
     ]
    }
   ],
   "source": [
    "def longest_collatz():\n",
    "    longest_chain = 0\n",
    "    starting_number = 0\n",
    "    target = 1000000\n",
    "    x = 1\n",
    "    while (x < target):\n",
    "        number = x\n",
    "        chain = 1\n",
    "        while (number != 1):\n",
    "            number = collatz(number)\n",
    "            chain +=1\n",
    "        if chain > longest_chain:\n",
    "            longest_chain = chain\n",
    "            starting_number = x\n",
    "        chain = 1\n",
    "        x +=1\n",
    "    print(longest_chain)\n",
    "    print(starting_number)\n",
    "    \n",
    "def collatz(number):\n",
    "    if number %2 == 0:\n",
    "        number = number//2\n",
    "    else:\n",
    "        number = (number*3)+1\n",
    "    return number\n",
    "longest_collatz()"
   ]
  },
  {
   "cell_type": "code",
   "execution_count": null,
   "metadata": {},
   "outputs": [],
   "source": []
  }
 ],
 "metadata": {
  "kernelspec": {
   "display_name": "Python 3",
   "language": "python",
   "name": "python3"
  },
  "language_info": {
   "codemirror_mode": {
    "name": "ipython",
    "version": 3
   },
   "file_extension": ".py",
   "mimetype": "text/x-python",
   "name": "python",
   "nbconvert_exporter": "python",
   "pygments_lexer": "ipython3",
   "version": "3.7.1"
  }
 },
 "nbformat": 4,
 "nbformat_minor": 2
}
